{
 "cells": [
  {
   "cell_type": "markdown",
   "id": "6817380f",
   "metadata": {},
   "source": [
    "# Video Game Recommender Project"
   ]
  },
  {
   "cell_type": "markdown",
   "id": "0bf1391d",
   "metadata": {},
   "source": [
    "## Part 3: Modeling"
   ]
  },
  {
   "cell_type": "code",
   "execution_count": 30,
   "id": "2148e1fd",
   "metadata": {},
   "outputs": [],
   "source": [
    "import pandas as pd\n",
    "from sklearn.neighbors import NearestNeighbors\n",
    "from sklearn.preprocessing import MultiLabelBinarizer\n",
    "from sklearn.feature_extraction.text import TfidfVectorizer\n",
    "from scipy import sparse as sp"
   ]
  },
  {
   "cell_type": "code",
   "execution_count": 31,
   "id": "7126b43f",
   "metadata": {},
   "outputs": [],
   "source": [
    "df = pd.read_csv('./Data/games_clean.csv')"
   ]
  },
  {
   "cell_type": "markdown",
   "id": "f49a7cd2",
   "metadata": {},
   "source": [
    "Using a combination of TF-IDF vectorization for game summaries and one-hot encoding for categorical features such as platforms, genres, and game modes, the model creates a comprehensive feature matrix. We stack the features using sp.hstack, which stacks the matrices horizontially, allowing the model to consider both textual similarity from the 'summary' column, and the categorical features. By employing the Nearest Neighbors algorithm, the model efficiently identifies games with similar characteristics to the input title. The model incorporates a filtering mechanism to exclude games with titles resembling the input, ensuring a diverse and relevant set of recommendations."
   ]
  },
  {
   "cell_type": "code",
   "execution_count": 32,
   "id": "c5a344fb",
   "metadata": {},
   "outputs": [
    {
     "data": {
      "text/html": [
       "<style>#sk-container-id-4 {color: black;}#sk-container-id-4 pre{padding: 0;}#sk-container-id-4 div.sk-toggleable {background-color: white;}#sk-container-id-4 label.sk-toggleable__label {cursor: pointer;display: block;width: 100%;margin-bottom: 0;padding: 0.3em;box-sizing: border-box;text-align: center;}#sk-container-id-4 label.sk-toggleable__label-arrow:before {content: \"▸\";float: left;margin-right: 0.25em;color: #696969;}#sk-container-id-4 label.sk-toggleable__label-arrow:hover:before {color: black;}#sk-container-id-4 div.sk-estimator:hover label.sk-toggleable__label-arrow:before {color: black;}#sk-container-id-4 div.sk-toggleable__content {max-height: 0;max-width: 0;overflow: hidden;text-align: left;background-color: #f0f8ff;}#sk-container-id-4 div.sk-toggleable__content pre {margin: 0.2em;color: black;border-radius: 0.25em;background-color: #f0f8ff;}#sk-container-id-4 input.sk-toggleable__control:checked~div.sk-toggleable__content {max-height: 200px;max-width: 100%;overflow: auto;}#sk-container-id-4 input.sk-toggleable__control:checked~label.sk-toggleable__label-arrow:before {content: \"▾\";}#sk-container-id-4 div.sk-estimator input.sk-toggleable__control:checked~label.sk-toggleable__label {background-color: #d4ebff;}#sk-container-id-4 div.sk-label input.sk-toggleable__control:checked~label.sk-toggleable__label {background-color: #d4ebff;}#sk-container-id-4 input.sk-hidden--visually {border: 0;clip: rect(1px 1px 1px 1px);clip: rect(1px, 1px, 1px, 1px);height: 1px;margin: -1px;overflow: hidden;padding: 0;position: absolute;width: 1px;}#sk-container-id-4 div.sk-estimator {font-family: monospace;background-color: #f0f8ff;border: 1px dotted black;border-radius: 0.25em;box-sizing: border-box;margin-bottom: 0.5em;}#sk-container-id-4 div.sk-estimator:hover {background-color: #d4ebff;}#sk-container-id-4 div.sk-parallel-item::after {content: \"\";width: 100%;border-bottom: 1px solid gray;flex-grow: 1;}#sk-container-id-4 div.sk-label:hover label.sk-toggleable__label {background-color: #d4ebff;}#sk-container-id-4 div.sk-serial::before {content: \"\";position: absolute;border-left: 1px solid gray;box-sizing: border-box;top: 0;bottom: 0;left: 50%;z-index: 0;}#sk-container-id-4 div.sk-serial {display: flex;flex-direction: column;align-items: center;background-color: white;padding-right: 0.2em;padding-left: 0.2em;position: relative;}#sk-container-id-4 div.sk-item {position: relative;z-index: 1;}#sk-container-id-4 div.sk-parallel {display: flex;align-items: stretch;justify-content: center;background-color: white;position: relative;}#sk-container-id-4 div.sk-item::before, #sk-container-id-4 div.sk-parallel-item::before {content: \"\";position: absolute;border-left: 1px solid gray;box-sizing: border-box;top: 0;bottom: 0;left: 50%;z-index: -1;}#sk-container-id-4 div.sk-parallel-item {display: flex;flex-direction: column;z-index: 1;position: relative;background-color: white;}#sk-container-id-4 div.sk-parallel-item:first-child::after {align-self: flex-end;width: 50%;}#sk-container-id-4 div.sk-parallel-item:last-child::after {align-self: flex-start;width: 50%;}#sk-container-id-4 div.sk-parallel-item:only-child::after {width: 0;}#sk-container-id-4 div.sk-dashed-wrapped {border: 1px dashed gray;margin: 0 0.4em 0.5em 0.4em;box-sizing: border-box;padding-bottom: 0.4em;background-color: white;}#sk-container-id-4 div.sk-label label {font-family: monospace;font-weight: bold;display: inline-block;line-height: 1.2em;}#sk-container-id-4 div.sk-label-container {text-align: center;}#sk-container-id-4 div.sk-container {/* jupyter's `normalize.less` sets `[hidden] { display: none; }` but bootstrap.min.css set `[hidden] { display: none !important; }` so we also need the `!important` here to be able to override the default hidden behavior on the sphinx rendered scikit-learn.org. See: https://github.com/scikit-learn/scikit-learn/issues/21755 */display: inline-block !important;position: relative;}#sk-container-id-4 div.sk-text-repr-fallback {display: none;}</style><div id=\"sk-container-id-4\" class=\"sk-top-container\"><div class=\"sk-text-repr-fallback\"><pre>NearestNeighbors(n_neighbors=10)</pre><b>In a Jupyter environment, please rerun this cell to show the HTML representation or trust the notebook. <br />On GitHub, the HTML representation is unable to render, please try loading this page with nbviewer.org.</b></div><div class=\"sk-container\" hidden><div class=\"sk-item\"><div class=\"sk-estimator sk-toggleable\"><input class=\"sk-toggleable__control sk-hidden--visually\" id=\"sk-estimator-id-4\" type=\"checkbox\" checked><label for=\"sk-estimator-id-4\" class=\"sk-toggleable__label sk-toggleable__label-arrow\">NearestNeighbors</label><div class=\"sk-toggleable__content\"><pre>NearestNeighbors(n_neighbors=10)</pre></div></div></div></div></div>"
      ],
      "text/plain": [
       "NearestNeighbors(n_neighbors=10)"
      ]
     },
     "execution_count": 32,
     "metadata": {},
     "output_type": "execute_result"
    }
   ],
   "source": [
    "# vectorize summary feature\n",
    "tfidf_vectorizer = TfidfVectorizer()\n",
    "tfidf_matrix = tfidf_vectorizer.fit_transform(df['summary'])\n",
    "\n",
    "# one-hot encode categorical features (platforms, genres, game_modes)\n",
    "mlb = MultiLabelBinarizer()\n",
    "platforms_encoded = mlb.fit_transform(df['platforms'])\n",
    "genres_encoded = mlb.fit_transform(df['genres'])\n",
    "game_modes_encoded = mlb.fit_transform(df['game_modes'])\n",
    "\n",
    "# combine the features using sp.hstack so we can put the arrays/matrices together\n",
    "combined_features = sp.hstack((tfidf_matrix, platforms_encoded, genres_encoded, game_modes_encoded), format='csr')\n",
    "\n",
    "# nearest neighbors model\n",
    "nn_model = NearestNeighbors(n_neighbors=10, algorithm='auto') #auto, scikit learn choses the algo\n",
    "nn_model.fit(combined_features)"
   ]
  },
  {
   "cell_type": "code",
   "execution_count": 35,
   "id": "bd956c00",
   "metadata": {},
   "outputs": [],
   "source": [
    "def recommend_game(game_title, k=10):\n",
    "    game_title = game_title.lower() # convert game title to lower case so that casing will not matter when inputing game\n",
    "    # find the index of the input game\n",
    "    game_index = df[df['name'].str.lower() == game_title].index[0]\n",
    "    \n",
    "    # get the combined feature vector for the input game\n",
    "    input_features = sp.hstack((tfidf_vectorizer.transform([df.iloc[game_index]['summary']]), \n",
    "                                platforms_encoded[game_index], \n",
    "                                genres_encoded[game_index], \n",
    "                                game_modes_encoded[game_index]), format='csr')\n",
    "    \n",
    "    # lets say input is call of duty, game was recommending different call of duty's, \n",
    "    # so i need more k's so i can eliminate the ones with similar names in my list if needed, and still get 10 recs.\n",
    "    n_neighbors = max(2 * k, 100)  \n",
    "    \n",
    "    # find the nearest neighbors\n",
    "    distances, indices = nn_model.kneighbors(input_features, n_neighbors=n_neighbors)\n",
    "    \n",
    "    # list for recs.\n",
    "    base_game_recommendations = {}\n",
    "    \n",
    "    # go through the list \n",
    "    for dist, idx in zip(distances.squeeze(), indices.squeeze()):\n",
    "        game_name = df.iloc[idx]['name']\n",
    "        \n",
    "        base_name = game_name.split(':')[0].strip().lower()\n",
    "        \n",
    "        # to exclude games with similar titles\n",
    "        if game_title.lower() not in game_name.lower() and game_name not in base_game_recommendations.values():\n",
    "            base_game_recommendations[base_name] = {\n",
    "                'name': game_name,\n",
    "                'url': df.iloc[idx]['url']\n",
    "            }\n",
    "            \n",
    "            \n",
    "    \n",
    "    recommended_games = list(base_game_recommendations.values())[:k]  # return k unique recommendations\n",
    "    \n",
    "    print(f\"Top {k} recommended games for '{game_title}':\")\n",
    "    for i, game in enumerate(recommended_games):\n",
    "        print(f\"{i+1}. {game['name']} {game['url']}\")"
   ]
  },
  {
   "cell_type": "code",
   "execution_count": 40,
   "id": "2eb2e34b",
   "metadata": {
    "scrolled": true
   },
   "outputs": [
    {
     "name": "stdout",
     "output_type": "stream",
     "text": [
      "Top 10 recommended games for 'clash of clans':\n",
      "1. Flame VS Blaze https://www.igdb.com/games/flame-vs-blaze\n",
      "2. Hero Royale https://www.igdb.com/games/hero-royale\n",
      "3. Magic: ManaStrike https://www.igdb.com/games/magic-manastrike\n",
      "4. Dungeon Keeper https://www.igdb.com/games/dungeon-keeper--1\n",
      "5. Army Men Strike: Toy Wars https://www.igdb.com/games/army-men-strike-toy-wars\n",
      "6. Might & Magic Heroes: Era of Chaos https://www.igdb.com/games/might-and-magic-heroes-era-of-chaos\n",
      "7. Mutant Forge https://www.igdb.com/games/mutant-forge--1\n",
      "8. Servant of Thrones https://www.igdb.com/games/servant-of-thrones\n",
      "9. Fantasy Stars: Battle Arena https://www.igdb.com/games/fantasy-stars-battle-arena\n",
      "10. Rush Wars https://www.igdb.com/games/rush-wars\n"
     ]
    }
   ],
   "source": [
    "recommend_game('clash of clans')"
   ]
  },
  {
   "cell_type": "code",
   "execution_count": 26,
   "id": "bc28f6ac",
   "metadata": {
    "scrolled": true
   },
   "outputs": [
    {
     "name": "stdout",
     "output_type": "stream",
     "text": [
      "(70,)\n",
      "(46,)\n",
      "(26,)\n"
     ]
    }
   ],
   "source": [
    "print(platforms_encoded[1].shape)\n",
    "print(genres_encoded[1].shape)\n",
    "print(game_modes_encoded[1].shape)"
   ]
  },
  {
   "cell_type": "code",
   "execution_count": 29,
   "id": "f6064a52",
   "metadata": {},
   "outputs": [
    {
     "name": "stdout",
     "output_type": "stream",
     "text": [
      "(1, 102781)\n"
     ]
    }
   ],
   "source": [
    "print(tfidf_matrix[1].shape)"
   ]
  },
  {
   "cell_type": "code",
   "execution_count": null,
   "id": "57cef052",
   "metadata": {},
   "outputs": [],
   "source": []
  },
  {
   "cell_type": "code",
   "execution_count": null,
   "id": "5872e421",
   "metadata": {
    "collapsed": true
   },
   "outputs": [],
   "source": []
  }
 ],
 "metadata": {
  "kernelspec": {
   "display_name": "Python 3 (ipykernel)",
   "language": "python",
   "name": "python3"
  },
  "language_info": {
   "codemirror_mode": {
    "name": "ipython",
    "version": 3
   },
   "file_extension": ".py",
   "mimetype": "text/x-python",
   "name": "python",
   "nbconvert_exporter": "python",
   "pygments_lexer": "ipython3",
   "version": "3.11.5"
  }
 },
 "nbformat": 4,
 "nbformat_minor": 5
}
